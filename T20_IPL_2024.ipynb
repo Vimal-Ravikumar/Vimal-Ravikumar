{
  "nbformat": 4,
  "nbformat_minor": 0,
  "metadata": {
    "colab": {
      "provenance": [],
      "authorship_tag": "ABX9TyMrRaUE1B4kCygxNwl0wXy2",
      "include_colab_link": true
    },
    "kernelspec": {
      "name": "python3",
      "display_name": "Python 3"
    },
    "language_info": {
      "name": "python"
    }
  },
  "cells": [
    {
      "cell_type": "markdown",
      "metadata": {
        "id": "view-in-github",
        "colab_type": "text"
      },
      "source": [
        "<a href=\"https://colab.research.google.com/github/Vimal-Ravikumar/Vimal-Ravikumar/blob/main/T20_IPL_2024.ipynb\" target=\"_parent\"><img src=\"https://colab.research.google.com/assets/colab-badge.svg\" alt=\"Open In Colab\"/></a>"
      ]
    },
    {
      "cell_type": "markdown",
      "source": [
        "This code makes a DataFrame utilizing physically inputted information and exhibits essential information investigation, sifting, gathering, and representation utilizing pandas."
      ],
      "metadata": {
        "id": "iP73jozzHpf2"
      }
    },
    {
      "cell_type": "code",
      "execution_count": null,
      "metadata": {
        "colab": {
          "base_uri": "https://localhost:8080/"
        },
        "id": "B0_9SzDrA3hQ",
        "outputId": "02b87311-bf5f-4162-a31c-41f1416dec1f"
      },
      "outputs": [
        {
          "output_type": "stream",
          "name": "stdout",
          "text": [
            "  Team  Matches  Wins  Losses  Ties  Points\n",
            "0  KKR       14     9       3     0      20\n",
            "1  SRH       14     8       5     0      17\n",
            "2   RR       14     8       5     0      17\n",
            "3  RCB       14     7       7     0      14\n",
            "4  CSK       14     7       7     0      14\n",
            "Number of rows: 5\n",
            "Number of columns: 6\n",
            "       Matches     Wins   Losses  Ties    Points\n",
            "count      5.0  5.00000  5.00000   5.0   5.00000\n",
            "mean      14.0  7.80000  5.40000   0.0  16.40000\n",
            "std        0.0  0.83666  1.67332   0.0   2.50998\n",
            "min       14.0  7.00000  3.00000   0.0  14.00000\n",
            "25%       14.0  7.00000  5.00000   0.0  14.00000\n",
            "50%       14.0  8.00000  5.00000   0.0  17.00000\n",
            "75%       14.0  8.00000  7.00000   0.0  17.00000\n",
            "max       14.0  9.00000  7.00000   0.0  20.00000\n",
            "Empty DataFrame\n",
            "Columns: [Team, Matches, Wins, Losses, Ties, Points]\n",
            "Index: []\n"
          ]
        }
      ],
      "source": [
        "import pandas as pd\n",
        "\n",
        "# Manually create a DataFrame with T20 IPL cricket data\n",
        "data = {\n",
        "    'Team': ['KKR', 'SRH', 'RR', 'RCB', 'CSK'],\n",
        "    'Matches': [14, 14, 14, 14, 14],\n",
        "    'Wins': [9, 8, 8, 7, 7],\n",
        "    'Losses': [3, 5, 5, 7, 7],\n",
        "    'Ties': [0, 0, 0, 0, 0],\n",
        "    'Points': [20, 17, 17, 14, 14]\n",
        "}\n",
        "\n",
        "# Create a DataFrame\n",
        "ipl_data = pd.DataFrame(data)\n",
        "\n",
        "# Display the DataFrame\n",
        "print(ipl_data)\n",
        "\n",
        "# Perform some basic data exploration\n",
        "# Example: Get the number of rows and columns\n",
        "num_rows, num_cols = ipl_data.shape\n",
        "print(f\"Number of rows: {num_rows}\")\n",
        "print(f\"Number of columns: {num_cols}\")\n",
        "\n",
        "# Example: Get summary statistics for numerical columns\n",
        "print(ipl_data.describe())\n",
        "\n",
        "# Example: Filter data based on conditions\n",
        "# Let's say we want to filter data for a specific team, like \"Mumbai Indians\"\n",
        "mumbai_indians_data = ipl_data[ipl_data['Team'] == 'Mumbai Indians']\n",
        "print(mumbai_indians_data)\n",
        "\n",
        "\n",
        "# Example: Data visualization using pandas\n",
        "import matplotlib.pyplot as plt\n",
        "\n"
      ]
    },
    {
      "cell_type": "markdown",
      "source": [
        "Seaborn is a measurable information representation library in light of matplotlib, which gives a significant level connection point to drawing appealing and useful factual illustrations. How about we incorporate Seaborn into our past model for information perception:"
      ],
      "metadata": {
        "id": "65K3Z7xnH_d6"
      }
    },
    {
      "cell_type": "code",
      "source": [
        "import pandas as pd\n",
        "import seaborn as sns\n",
        "import matplotlib.pyplot as plt\n",
        "\n",
        "# Manually create a DataFrame with T20 IPL cricket data\n",
        "data = {\n",
        "    'Team': ['KKR', 'SRH', 'RR', 'RCB', 'CSK'],\n",
        "    'Matches': [14, 14, 14, 14, 14],\n",
        "    'Wins': [9, 8, 8, 7, 7],\n",
        "    'Losses': [3, 5, 5, 7, 7],\n",
        "    'Ties': [0, 0, 0, 0, 0],\n",
        "    'Points': [20, 17, 17, 14, 14]\n",
        "}\n",
        "\n",
        "# Create a DataFrame\n",
        "ipl_data = pd.DataFrame(data)\n",
        "\n",
        "# Example: Data visualization using seaborn\n",
        "# Let's create a bar plot using Seaborn\n",
        "\n",
        "# Set the style\n",
        "sns.set(style=\"whitegrid\")\n",
        "\n",
        "# Plotting total runs scored by each team\n",
        "plt.figure(figsize=(10, 6))\n",
        "sns.barplot(x='Team', y='Points', data=ipl_data)\n",
        "plt.title('Total Points Earned by Each Team')\n",
        "plt.xlabel('Team')\n",
        "plt.ylabel('Total Points')\n",
        "plt.xticks(rotation=45)\n",
        "plt.show()"
      ],
      "metadata": {
        "colab": {
          "base_uri": "https://localhost:8080/",
          "height": 591
        },
        "id": "tBGFSTa3DZ6s",
        "outputId": "8f76ff8b-9a9c-4491-8178-a59f0cc17ce3"
      },
      "execution_count": null,
      "outputs": [
        {
          "output_type": "display_data",
          "data": {
            "text/plain": [
              "<Figure size 1000x600 with 1 Axes>"
            ],
            "image/png": "[encoded data removed]"
          },
          "metadata": {}
        }
      ]
    },
    {
      "cell_type": "markdown",
      "source": [
        "Seaborn to make a bar plot showing the complete focuses procured by each group in the T20 IPL cricket information. Seaborn's barplot capability is utilized for this reason."
      ],
      "metadata": {
        "id": "s-C9clBEIk3h"
      }
    },
    {
      "cell_type": "markdown",
      "source": [
        "Consolidating pandas and NumPy can be exceptionally strong for information control, investigation, and calculation. NumPy offers help for numerical and legitimate procedure on clusters, while pandas offers information designs and works for information control and investigation. This is an illustration of the way you can utilize pandas and NumPy together:"
      ],
      "metadata": {
        "id": "jpzMbfGEIlwf"
      }
    },
    {
      "cell_type": "code",
      "source": [
        "import pandas as pd\n",
        "import numpy as np\n",
        "\n",
        "# Manually create a DataFrame with T20 IPL cricket data\n",
        "data = {\n",
        "    'Team': ['KKR', 'SRH', 'RR', 'RCB', 'CSK'],\n",
        "    'Matches': [14, 14, 14, 14, 14],\n",
        "    'Wins': [9, 8, 8, 7, 7],\n",
        "    'Losses': [3, 5, 5, 7, 7],\n",
        "    'Ties': [0, 0, 0, 0, 0],\n",
        "    'Points': [20, 17, 17, 14, 14]\n",
        "}\n",
        "\n",
        "# Create a DataFrame\n",
        "ipl_data = pd.DataFrame(data)\n",
        "\n",
        "# Convert DataFrame columns to NumPy arrays\n",
        "matches_array = np.array(ipl_data['Matches'])\n",
        "wins_array = np.array(ipl_data['Wins'])\n",
        "losses_array = np.array(ipl_data['Losses'])\n",
        "ties_array = np.array(ipl_data['Ties'])\n",
        "points_array = np.array(ipl_data['Points'])\n",
        "\n",
        "# Example: Perform mathematical operations using NumPy arrays\n",
        "# Let's calculate the win percentage for each team\n",
        "win_percentage = (wins_array / matches_array) * 100\n",
        "print(\"Win Percentage:\", win_percentage)\n",
        "\n",
        "# Example: Perform logical operations using NumPy arrays\n",
        "# Let's find teams with win percentage greater than 70%\n",
        "high_win_percentage_teams = ipl_data[win_percentage > 70]\n",
        "print(\"Teams with Win Percentage > 70%:\")\n",
        "print(high_win_percentage_teams)"
      ],
      "metadata": {
        "colab": {
          "base_uri": "https://localhost:8080/"
        },
        "id": "eH9Z5J8iETjJ",
        "outputId": "7fd26251-076b-4f3e-f60d-5e3deb8e5024"
      },
      "execution_count": null,
      "outputs": [
        {
          "output_type": "stream",
          "name": "stdout",
          "text": [
            "Win Percentage: [64.28571429 57.14285714 57.14285714 50.         50.        ]\n",
            "Teams with Win Percentage > 70%:\n",
            "Empty DataFrame\n",
            "Columns: [Team, Matches, Wins, Losses, Ties, Points]\n",
            "Index: []\n"
          ]
        }
      ]
    },
    {
      "cell_type": "markdown",
      "source": [
        "NumPy exhibits to perform numerical tasks like working out win rate and sensible activities like sifting groups with a success rate more noteworthy than 70%. NumPy's cluster tasks consistently incorporate with pandas DataFrame, taking into account productive information control and examination."
      ],
      "metadata": {
        "id": "GpEEEd1gJpWX"
      }
    },
    {
      "cell_type": "markdown",
      "source": [
        "create an interactive bar plot of the T20 IPL points table using Plotly:"
      ],
      "metadata": {
        "id": "a4m8WVJNJtjy"
      }
    },
    {
      "cell_type": "code",
      "source": [
        "import plotly.express as px\n",
        "import pandas as pd\n",
        "\n",
        "# Sample T20 IPL data\n",
        "data = {\n",
        "    'Team': ['KKR', 'SRH', 'RR', 'RCB', 'CSK'],\n",
        "    'Matches': [14, 14, 14, 14, 14],\n",
        "    'Wins': [9, 8, 8, 7, 7],\n",
        "    'Losses': [3, 5, 5, 7, 7],\n",
        "    'Ties': [0, 0, 0, 0, 0],\n",
        "    'Net_Run_Rate': [1.428, 0.414, 0.273, 0.459, 0.392],\n",
        "    'Points': [20, 17, 17, 14, 14]\n",
        "}\n",
        "\n",
        "# Create a DataFrame\n",
        "ipl_data = pd.DataFrame(data)\n",
        "\n",
        "# Create a bar plot using Plotly\n",
        "fig = px.bar(ipl_data, x='Team', y='Points', title='T20 IPL Points Table')\n",
        "fig.show()\n"
      ],
      "metadata": {
        "colab": {
          "base_uri": "https://localhost:8080/",
          "height": 542
        },
        "id": "0sDbkTKwEyIu",
        "outputId": "81f3e927-5f0c-4647-88e7-ac1502125cc4"
      },
      "execution_count": null,
      "outputs": [
        {
          "output_type": "display_data",
          "data": {
            "text/html": [
              "<html>\n",
              "<head><meta charset=\"utf-8\" /></head>\n",
              "<body>\n",
              "    <div>            <script src=\"https://cdnjs.cloudflare.com/ajax/libs/mathjax/2.7.5/MathJax.js?config=TeX-AMS-MML_SVG\"></script><script type=\"text/javascript\">if (window.MathJax && window.MathJax.Hub && window.MathJax.Hub.Config) {window.MathJax.Hub.Config({SVG: {font: \"STIX-Web\"}});}</script>                <script type=\"text/javascript\">window.PlotlyConfig = {MathJaxConfig: 'local'};</script>\n",
              "        <script charset=\"utf-8\" src=\"https://cdn.plot.ly/plotly-2.24.1.min.js\"></script>                <div id=\"a39d1389-d18e-4085-9919-5679ca422c5e\" class=\"plotly-graph-div\" style=\"height:525px; width:100%;\"></div>            <script type=\"text/javascript\">                                    window.PLOTLYENV=window.PLOTLYENV || {};                                    if (document.getElementById(\"a39d1389-d18e-4085-9919-5679ca422c5e\")) {                    Plotly.newPlot(                        \"a39d1389-d18e-4085-9919-5679ca422c5e\",                        [{\"alignmentgroup\":\"True\",\"hovertemplate\":\"Team=%{x}\\u003cbr\\u003ePoints=%{y}\\u003cextra\\u003e\\u003c\\u002fextra\\u003e\",\"legendgroup\":\"\",\"marker\":{\"color\":\"#636efa\",\"pattern\":{\"shape\":\"\"}},\"name\":\"\",\"offsetgroup\":\"\",\"orientation\":\"v\",\"showlegend\":false,\"textposition\":\"auto\",\"x\":[\"KKR\",\"SRH\",\"RR\",\"RCB\",\"CSK\"],\"xaxis\":\"x\",\"y\":[20,17,17,14,14],\"yaxis\":\"y\",\"type\":\"bar\"}],                        {\"template\":{\"data\":{\"histogram2dcontour\":[{\"type\":\"histogram2dcontour\",\"colorbar\":{\"outlinewidth\":0,\"ticks\":\"\"},\"colorscale\":[[0.0,\"#0d0887\"],[0.1111111111111111,\"#46039f\"],[0.2222222222222222,\"#7201a8\"],[0.3333333333333333,\"#9c179e\"],[0.4444444444444444,\"#bd3786\"],[0.5555555555555556,\"#d8576b\"],[0.6666666666666666,\"#ed7953\"],[0.7777777777777778,\"#fb9f3a\"],[0.8888888888888888,\"#fdca26\"],[1.0,\"#f0f921\"]]}],\"choropleth\":[{\"type\":\"choropleth\",\"colorbar\":{\"outlinewidth\":0,\"ticks\":\"\"}}],\"histogram2d\":[{\"type\":\"histogram2d\",\"colorbar\":{\"outlinewidth\":0,\"ticks\":\"\"},\"colorscale\":[[0.0,\"#0d0887\"],[0.1111111111111111,\"#46039f\"],[0.2222222222222222,\"#7201a8\"],[0.3333333333333333,\"#9c179e\"],[0.4444444444444444,\"#bd3786\"],[0.5555555555555556,\"#d8576b\"],[0.6666666666666666,\"#ed7953\"],[0.7777777777777778,\"#fb9f3a\"],[0.8888888888888888,\"#fdca26\"],[1.0,\"#f0f921\"]]}],\"heatmap\":[{\"type\":\"heatmap\",\"colorbar\":{\"outlinewidth\":0,\"ticks\":\"\"},\"colorscale\":[[0.0,\"#0d0887\"],[0.1111111111111111,\"#46039f\"],[0.2222222222222222,\"#7201a8\"],[0.3333333333333333,\"#9c179e\"],[0.4444444444444444,\"#bd3786\"],[0.5555555555555556,\"#d8576b\"],[0.6666666666666666,\"#ed7953\"],[0.7777777777777778,\"#fb9f3a\"],[0.8888888888888888,\"#fdca26\"],[1.0,\"#f0f921\"]]}],\"heatmapgl\":[{\"type\":\"heatmapgl\",\"colorbar\":{\"outlinewidth\":0,\"ticks\":\"\"},\"colorscale\":[[0.0,\"#0d0887\"],[0.1111111111111111,\"#46039f\"],[0.2222222222222222,\"#7201a8\"],[0.3333333333333333,\"#9c179e\"],[0.4444444444444444,\"#bd3786\"],[0.5555555555555556,\"#d8576b\"],[0.6666666666666666,\"#ed7953\"],[0.7777777777777778,\"#fb9f3a\"],[0.8888888888888888,\"#fdca26\"],[1.0,\"#f0f921\"]]}],\"contourcarpet\":[{\"type\":\"contourcarpet\",\"colorbar\":{\"outlinewidth\":0,\"ticks\":\"\"}}],\"contour\":[{\"type\":\"contour\",\"colorbar\":{\"outlinewidth\":0,\"ticks\":\"\"},\"colorscale\":[[0.0,\"#0d0887\"],[0.1111111111111111,\"#46039f\"],[0.2222222222222222,\"#7201a8\"],[0.3333333333333333,\"#9c179e\"],[0.4444444444444444,\"#bd3786\"],[0.5555555555555556,\"#d8576b\"],[0.6666666666666666,\"#ed7953\"],[0.7777777777777778,\"#fb9f3a\"],[0.8888888888888888,\"#fdca26\"],[1.0,\"#f0f921\"]]}],\"surface\":[{\"type\":\"surface\",\"colorbar\":{\"outlinewidth\":0,\"ticks\":\"\"},\"colorscale\":[[0.0,\"#0d0887\"],[0.1111111111111111,\"#46039f\"],[0.2222222222222222,\"#7201a8\"],[0.3333333333333333,\"#9c179e\"],[0.4444444444444444,\"#bd3786\"],[0.5555555555555556,\"#d8576b\"],[0.6666666666666666,\"#ed7953\"],[0.7777777777777778,\"#fb9f3a\"],[0.8888888888888888,\"#fdca26\"],[1.0,\"#f0f921\"]]}],\"mesh3d\":[{\"type\":\"mesh3d\",\"colorbar\":{\"outlinewidth\":0,\"ticks\":\"\"}}],\"scatter\":[{\"fillpattern\":{\"fillmode\":\"overlay\",\"size\":10,\"solidity\":0.2},\"type\":\"scatter\"}],\"parcoords\":[{\"type\":\"parcoords\",\"line\":{\"colorbar\":{\"outlinewidth\":0,\"ticks\":\"\"}}}],\"scatterpolargl\":[{\"type\":\"scatterpolargl\",\"marker\":{\"colorbar\":{\"outlinewidth\":0,\"ticks\":\"\"}}}],\"bar\":[{\"error_x\":{\"color\":\"#2a3f5f\"},\"error_y\":{\"color\":\"#2a3f5f\"},\"marker\":{\"line\":{\"color\":\"#E5ECF6\",\"width\":0.5},\"pattern\":{\"fillmode\":\"overlay\",\"size\":10,\"solidity\":0.2}},\"type\":\"bar\"}],\"scattergeo\":[{\"type\":\"scattergeo\",\"marker\":{\"colorbar\":{\"outlinewidth\":0,\"ticks\":\"\"}}}],\"scatterpolar\":[{\"type\":\"scatterpolar\",\"marker\":{\"colorbar\":{\"outlinewidth\":0,\"ticks\":\"\"}}}],\"histogram\":[{\"marker\":{\"pattern\":{\"fillmode\":\"overlay\",\"size\":10,\"solidity\":0.2}},\"type\":\"histogram\"}],\"scattergl\":[{\"type\":\"scattergl\",\"marker\":{\"colorbar\":{\"outlinewidth\":0,\"ticks\":\"\"}}}],\"scatter3d\":[{\"type\":\"scatter3d\",\"line\":{\"colorbar\":{\"outlinewidth\":0,\"ticks\":\"\"}},\"marker\":{\"colorbar\":{\"outlinewidth\":0,\"ticks\":\"\"}}}],\"scattermapbox\":[{\"type\":\"scattermapbox\",\"marker\":{\"colorbar\":{\"outlinewidth\":0,\"ticks\":\"\"}}}],\"scatterternary\":[{\"type\":\"scatterternary\",\"marker\":{\"colorbar\":{\"outlinewidth\":0,\"ticks\":\"\"}}}],\"scattercarpet\":[{\"type\":\"scattercarpet\",\"marker\":{\"colorbar\":{\"outlinewidth\":0,\"ticks\":\"\"}}}],\"carpet\":[{\"aaxis\":{\"endlinecolor\":\"#2a3f5f\",\"gridcolor\":\"white\",\"linecolor\":\"white\",\"minorgridcolor\":\"white\",\"startlinecolor\":\"#2a3f5f\"},\"baxis\":{\"endlinecolor\":\"#2a3f5f\",\"gridcolor\":\"white\",\"linecolor\":\"white\",\"minorgridcolor\":\"white\",\"startlinecolor\":\"#2a3f5f\"},\"type\":\"carpet\"}],\"table\":[{\"cells\":{\"fill\":{\"color\":\"#EBF0F8\"},\"line\":{\"color\":\"white\"}},\"header\":{\"fill\":{\"color\":\"#C8D4E3\"},\"line\":{\"color\":\"white\"}},\"type\":\"table\"}],\"barpolar\":[{\"marker\":{\"line\":{\"color\":\"#E5ECF6\",\"width\":0.5},\"pattern\":{\"fillmode\":\"overlay\",\"size\":10,\"solidity\":0.2}},\"type\":\"barpolar\"}],\"pie\":[{\"automargin\":true,\"type\":\"pie\"}]},\"layout\":{\"autotypenumbers\":\"strict\",\"colorway\":[\"#636efa\",\"#EF553B\",\"#00cc96\",\"#ab63fa\",\"#FFA15A\",\"#19d3f3\",\"#FF6692\",\"#B6E880\",\"#FF97FF\",\"#FECB52\"],\"font\":{\"color\":\"#2a3f5f\"},\"hovermode\":\"closest\",\"hoverlabel\":{\"align\":\"left\"},\"paper_bgcolor\":\"white\",\"plot_bgcolor\":\"#E5ECF6\",\"polar\":{\"bgcolor\":\"#E5ECF6\",\"angularaxis\":{\"gridcolor\":\"white\",\"linecolor\":\"white\",\"ticks\":\"\"},\"radialaxis\":{\"gridcolor\":\"white\",\"linecolor\":\"white\",\"ticks\":\"\"}},\"ternary\":{\"bgcolor\":\"#E5ECF6\",\"aaxis\":{\"gridcolor\":\"white\",\"linecolor\":\"white\",\"ticks\":\"\"},\"baxis\":{\"gridcolor\":\"white\",\"linecolor\":\"white\",\"ticks\":\"\"},\"caxis\":{\"gridcolor\":\"white\",\"linecolor\":\"white\",\"ticks\":\"\"}},\"coloraxis\":{\"colorbar\":{\"outlinewidth\":0,\"ticks\":\"\"}},\"colorscale\":{\"sequential\":[[0.0,\"#0d0887\"],[0.1111111111111111,\"#46039f\"],[0.2222222222222222,\"#7201a8\"],[0.3333333333333333,\"#9c179e\"],[0.4444444444444444,\"#bd3786\"],[0.5555555555555556,\"#d8576b\"],[0.6666666666666666,\"#ed7953\"],[0.7777777777777778,\"#fb9f3a\"],[0.8888888888888888,\"#fdca26\"],[1.0,\"#f0f921\"]],\"sequentialminus\":[[0.0,\"#0d0887\"],[0.1111111111111111,\"#46039f\"],[0.2222222222222222,\"#7201a8\"],[0.3333333333333333,\"#9c179e\"],[0.4444444444444444,\"#bd3786\"],[0.5555555555555556,\"#d8576b\"],[0.6666666666666666,\"#ed7953\"],[0.7777777777777778,\"#fb9f3a\"],[0.8888888888888888,\"#fdca26\"],[1.0,\"#f0f921\"]],\"diverging\":[[0,\"#8e0152\"],[0.1,\"#c51b7d\"],[0.2,\"#de77ae\"],[0.3,\"#f1b6da\"],[0.4,\"#fde0ef\"],[0.5,\"#f7f7f7\"],[0.6,\"#e6f5d0\"],[0.7,\"#b8e186\"],[0.8,\"#7fbc41\"],[0.9,\"#4d9221\"],[1,\"#276419\"]]},\"xaxis\":{\"gridcolor\":\"white\",\"linecolor\":\"white\",\"ticks\":\"\",\"title\":{\"standoff\":15},\"zerolinecolor\":\"white\",\"automargin\":true,\"zerolinewidth\":2},\"yaxis\":{\"gridcolor\":\"white\",\"linecolor\":\"white\",\"ticks\":\"\",\"title\":{\"standoff\":15},\"zerolinecolor\":\"white\",\"automargin\":true,\"zerolinewidth\":2},\"scene\":{\"xaxis\":{\"backgroundcolor\":\"#E5ECF6\",\"gridcolor\":\"white\",\"linecolor\":\"white\",\"showbackground\":true,\"ticks\":\"\",\"zerolinecolor\":\"white\",\"gridwidth\":2},\"yaxis\":{\"backgroundcolor\":\"#E5ECF6\",\"gridcolor\":\"white\",\"linecolor\":\"white\",\"showbackground\":true,\"ticks\":\"\",\"zerolinecolor\":\"white\",\"gridwidth\":2},\"zaxis\":{\"backgroundcolor\":\"#E5ECF6\",\"gridcolor\":\"white\",\"linecolor\":\"white\",\"showbackground\":true,\"ticks\":\"\",\"zerolinecolor\":\"white\",\"gridwidth\":2}},\"shapedefaults\":{\"line\":{\"color\":\"#2a3f5f\"}},\"annotationdefaults\":{\"arrowcolor\":\"#2a3f5f\",\"arrowhead\":0,\"arrowwidth\":1},\"geo\":{\"bgcolor\":\"white\",\"landcolor\":\"#E5ECF6\",\"subunitcolor\":\"white\",\"showland\":true,\"showlakes\":true,\"lakecolor\":\"white\"},\"title\":{\"x\":0.05},\"mapbox\":{\"style\":\"light\"}}},\"xaxis\":{\"anchor\":\"y\",\"domain\":[0.0,1.0],\"title\":{\"text\":\"Team\"}},\"yaxis\":{\"anchor\":\"x\",\"domain\":[0.0,1.0],\"title\":{\"text\":\"Points\"}},\"legend\":{\"tracegroupgap\":0},\"title\":{\"text\":\"T20 IPL Points Table\"},\"barmode\":\"relative\"},                        {\"responsive\": true}                    ).then(function(){\n",
              "                            \n",
              "var gd = document.getElementById('a39d1389-d18e-4085-9919-5679ca422c5e');\n",
              "var x = new MutationObserver(function (mutations, observer) {{\n",
              "        var display = window.getComputedStyle(gd).display;\n",
              "        if (!display || display === 'none') {{\n",
              "            console.log([gd, 'removed!']);\n",
              "            Plotly.purge(gd);\n",
              "            observer.disconnect();\n",
              "        }}\n",
              "}});\n",
              "\n",
              "// Listen for the removal of the full notebook cells\n",
              "var notebookContainer = gd.closest('#notebook-container');\n",
              "if (notebookContainer) {{\n",
              "    x.observe(notebookContainer, {childList: true});\n",
              "}}\n",
              "\n",
              "// Listen for the clearing of the current output cell\n",
              "var outputEl = gd.closest('.output');\n",
              "if (outputEl) {{\n",
              "    x.observe(outputEl, {childList: true});\n",
              "}}\n",
              "\n",
              "                        })                };                            </script>        </div>\n",
              "</body>\n",
              "</html>"
            ]
          },
          "metadata": {}
        }
      ]
    }
  ]
}