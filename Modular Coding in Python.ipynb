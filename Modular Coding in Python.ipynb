{
  "nbformat": 4,
  "nbformat_minor": 0,
  "metadata": {
    "colab": {
      "provenance": [],
      "authorship_tag": "ABX9TyM5B6EuC0hoi8gAt+UXmaCJ",
      "include_colab_link": true
    },
    "kernelspec": {
      "name": "python3",
      "display_name": "Python 3"
    },
    "language_info": {
      "name": "python"
    }
  },
  "cells": [
    {
      "cell_type": "markdown",
      "metadata": {
        "id": "view-in-github",
        "colab_type": "text"
      },
      "source": [
        "<a href=\"https://colab.research.google.com/github/Vimal-Ravikumar/Vimal-Ravikumar/blob/main/Modular%20Coding%20in%20Python.ipynb\" target=\"_parent\"><img src=\"https://colab.research.google.com/assets/colab-badge.svg\" alt=\"Open In Colab\"/></a>"
      ]
    },
    {
      "cell_type": "markdown",
      "source": [
        "**MODULAR CODING**:  \n",
        "     Modular coding in Python, especially when utilizing classes, data abstraction and encapsulation, Significantly enhances code reusability. classes allow you to encapsulate data and functionality into reusable components, Promoting a modular and organized codebase. Data abstraction enables you to hide complex implementation details, focusing on essential functionalities, which enhances code readability and maintainability. Encapsulation ensures that the internal state of an object is protected and accessed only through well-defined interfaces, reducing likelihood of unintended modifications and making it easier to reuse code without worrying about its internal working. Together, these principles facilitate the development of flexible and reusable code in python."
      ],
      "metadata": {
        "id": "hAKGk5vP5Hav"
      }
    },
    {
      "cell_type": "markdown",
      "source": [
        "Example 1"
      ],
      "metadata": {
        "id": "YCIJd8QC8Np6"
      }
    },
    {
      "cell_type": "code",
      "execution_count": null,
      "metadata": {
        "colab": {
          "base_uri": "https://localhost:8080/"
        },
        "id": "Ib3uHE6o4vhI",
        "outputId": "fbaa9f6c-1479-4276-fae8-d003d5c6fb3f"
      },
      "outputs": [
        {
          "output_type": "stream",
          "name": "stdout",
          "text": [
            "Area of Rectangle: 20\n",
            "Area of circle: 28.259999999999998\n"
          ]
        }
      ],
      "source": [
        "class Shape:\n",
        "    def area(self):\n",
        "        pass\n",
        "\n",
        "class Rectangle(Shape):\n",
        "    def __init__(self, length, width):\n",
        "        self.length = length\n",
        "        self.width = width\n",
        "\n",
        "    def area(self):\n",
        "        return self.length * self.width\n",
        "\n",
        "class Circle(Shape):\n",
        "    def __init__(self, radius):\n",
        "        self.radius = radius\n",
        "\n",
        "    def area(self):\n",
        "        return 3.14 * self.radius * self.radius\n",
        "\n",
        "# Example usage\n",
        "rectangle = Rectangle(5, 4)\n",
        "print(\"Area of Rectangle:\", rectangle.area())\n",
        "\n",
        "circle = Circle(3)\n",
        "print(\"Area of circle:\", circle.area())\n"
      ]
    },
    {
      "cell_type": "markdown",
      "source": [
        "Example 2"
      ],
      "metadata": {
        "id": "s3CZX38L8Rpi"
      }
    },
    {
      "cell_type": "code",
      "source": [
        "class Animal:\n",
        "    def __init__(self, name, sound):\n",
        "        self.name = name\n",
        "        self.sound = sound\n",
        "\n",
        "    def make_sound(self):\n",
        "        return f\"{self.name} says {self.sound}\"\n",
        "\n",
        "class Dog(Animal):\n",
        "    def __init__(self, name):\n",
        "        super().__init__(name, \"Woof\")\n",
        "\n",
        "class Cat(Animal):\n",
        "    def __init__(self, name):\n",
        "        super().__init__(name, \"meow\")\n",
        "\n",
        "#example usage\n",
        "dog = Dog(\"Buddy\")\n",
        "print(dog.make_sound())\n",
        "\n",
        "cat = Cat(\"Whiskers\")\n",
        "print(cat.make_sound())\n"
      ],
      "metadata": {
        "colab": {
          "base_uri": "https://localhost:8080/"
        },
        "id": "Fo2VPBca8Yit",
        "outputId": "4bac70fe-2012-4794-9622-c3c1620e0e4a"
      },
      "execution_count": null,
      "outputs": [
        {
          "output_type": "stream",
          "name": "stdout",
          "text": [
            "Buddy says Woof\n",
            "Whiskers says meow\n"
          ]
        }
      ]
    }
  ]
}